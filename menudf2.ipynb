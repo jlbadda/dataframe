{
 "cells": [
  {
   "cell_type": "code",
   "execution_count": null,
   "id": "4f92756f-33ef-4420-8d5a-804b4f157b39",
   "metadata": {},
   "outputs": [
    {
     "name": "stdout",
     "output_type": "stream",
     "text": [
      "\n",
      "----- MENÚ -----\n",
      "1. Cargar datos\n",
      "2. Mostrar registros\n",
      "3. Calcular estadísticas\n",
      "4. Realizar consultas\n",
      "5. Salir\n"
     ]
    },
    {
     "name": "stdin",
     "output_type": "stream",
     "text": [
      "Ingrese el número de la opción que desea ejecutar:  1\n",
      "Ingrese la ruta del archivo CSV o XLS:  ConsumoGasolina.xls\n"
     ]
    },
    {
     "name": "stdout",
     "output_type": "stream",
     "text": [
      "No se pudo encontrar el archivo.\n",
      "\n",
      "----- MENÚ -----\n",
      "1. Cargar datos\n",
      "2. Mostrar registros\n",
      "3. Calcular estadísticas\n",
      "4. Realizar consultas\n",
      "5. Salir\n"
     ]
    },
    {
     "name": "stdin",
     "output_type": "stream",
     "text": [
      "Ingrese el número de la opción que desea ejecutar:  1\n",
      "Ingrese la ruta del archivo CSV o XLS:  beer2019.csv\n"
     ]
    },
    {
     "name": "stdout",
     "output_type": "stream",
     "text": [
      "\n",
      "----- MENÚ -----\n",
      "1. Cargar datos\n",
      "2. Mostrar registros\n",
      "3. Calcular estadísticas\n",
      "4. Realizar consultas\n",
      "5. Salir\n"
     ]
    },
    {
     "name": "stdin",
     "output_type": "stream",
     "text": [
      "Ingrese el número de la opción que desea ejecutar:  1\n",
      "Ingrese la ruta del archivo CSV o XLS:  ConsumoGasolina.xls\n"
     ]
    },
    {
     "name": "stdout",
     "output_type": "stream",
     "text": [
      "No se pudo encontrar el archivo.\n",
      "\n",
      "----- MENÚ -----\n",
      "1. Cargar datos\n",
      "2. Mostrar registros\n",
      "3. Calcular estadísticas\n",
      "4. Realizar consultas\n",
      "5. Salir\n"
     ]
    }
   ],
   "source": [
    "import pandas as pd\n",
    "\n",
    "# Carga de datos\n",
    "def cargar_datos():\n",
    "    archivo = input(\"Ingrese la ruta del archivo CSV o XLS: \")\n",
    "    try:\n",
    "        df = pd.read_csv(archivo)  # usar pd.read_excel() para archivos XLS\n",
    "        return df\n",
    "    except FileNotFoundError:\n",
    "        print(\"No se pudo encontrar el archivo.\")\n",
    "        return None\n",
    "\n",
    "# Mostrar registros\n",
    "def mostrar_registros(df):\n",
    "    n = int(input(\"Ingrese la cantidad de registros que desea mostrar: \"))\n",
    "    print(df.head(n))\n",
    "\n",
    "# Calcular estadísticas\n",
    "def calcular_estadisticas(df):\n",
    "    columnas = input(\"Ingrese el nombre de las columnas separadas por comas: \").split(',')\n",
    "    for col in columnas:\n",
    "        if col.strip() in df.columns:\n",
    "            print(f\"Estadísticas para la columna '{col.strip()}':\")\n",
    "            print(\"Promedio:\", df[col.strip()].mean())\n",
    "            print(\"Máximo:\", df[col.strip()].max())\n",
    "            print(\"Mínimo:\", df[col.strip()].min())\n",
    "            print()\n",
    "        else:\n",
    "            print(f\"La columna '{col.strip()}' no existe en el DataFrame.\")\n",
    "\n",
    "# Consultas\n",
    "def realizar_consultas(df):\n",
    "    columna = input(\"Ingrese el nombre de la columna en la que desea realizar la consulta: \")\n",
    "    valor = float(input(\"Ingrese el valor con el que desea comparar: \"))\n",
    "    condicion = input(\"¿Quiere ver los registros mayores (>) o menores (<) que el valor dado?: \")\n",
    "    if condicion == '>':\n",
    "        resultado = df[df[columna] > valor]\n",
    "    elif condicion == '<':\n",
    "        resultado = df[df[columna] < valor]\n",
    "    else:\n",
    "        print(\"Operador no válido.\")\n",
    "        return\n",
    "    print(resultado)\n",
    "\n",
    "# Menú principal\n",
    "def menu():\n",
    "    df = None\n",
    "    while True:\n",
    "        print(\"\\n----- MENÚ -----\")\n",
    "        print(\"1. Cargar datos\")\n",
    "        print(\"2. Mostrar registros\")\n",
    "        print(\"3. Calcular estadísticas\")\n",
    "        print(\"4. Realizar consultas\")\n",
    "        print(\"5. Salir\")\n",
    "        opcion = input(\"Ingrese el número de la opción que desea ejecutar: \")\n",
    "\n",
    "        if opcion == '1':\n",
    "            df = cargar_datos()\n",
    "        elif opcion == '2':\n",
    "            if df is not None:\n",
    "                mostrar_registros(df)\n",
    "            else:\n",
    "                print(\"Primero debe cargar los datos.\")\n",
    "        elif opcion == '3':\n",
    "            if df is not None:\n",
    "                calcular_estadisticas(df)\n",
    "            else:\n",
    "                print(\"Primero debe cargar los datos.\")\n",
    "        elif opcion == '4':\n",
    "            if df is not None:\n",
    "                realizar_consultas(df)\n",
    "            else:\n",
    "                print(\"Primero debe cargar los datos.\")\n",
    "        elif opcion == '5':\n",
    "            print(\"¡Hasta luego!\")\n",
    "            break\n",
    "        else:\n",
    "            print(\"Opción no válida. Por favor, ingrese un número válido.\")\n",
    "\n",
    "# Ejecutar el menú\n",
    "menu()\n"
   ]
  },
  {
   "cell_type": "code",
   "execution_count": null,
   "id": "101c7973-6d2e-406c-8adb-021189740c30",
   "metadata": {},
   "outputs": [],
   "source": []
  },
  {
   "cell_type": "code",
   "execution_count": null,
   "id": "bf616041-cbc9-40e9-9d03-c1d6b1a688d6",
   "metadata": {},
   "outputs": [],
   "source": []
  }
 ],
 "metadata": {
  "kernelspec": {
   "display_name": "Python 3 (ipykernel)",
   "language": "python",
   "name": "python3"
  },
  "language_info": {
   "codemirror_mode": {
    "name": "ipython",
    "version": 3
   },
   "file_extension": ".py",
   "mimetype": "text/x-python",
   "name": "python",
   "nbconvert_exporter": "python",
   "pygments_lexer": "ipython3",
   "version": "3.12.0"
  }
 },
 "nbformat": 4,
 "nbformat_minor": 5
}
